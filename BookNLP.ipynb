{
 "cells": [
  {
   "cell_type": "code",
   "execution_count": 2,
   "id": "0348d0fa",
   "metadata": {},
   "outputs": [],
   "source": [
    "import pandas as pd"
   ]
  },
  {
   "cell_type": "code",
   "execution_count": 7,
   "id": "ca2f0ef7",
   "metadata": {},
   "outputs": [
    {
     "data": {
      "text/plain": [
       "0       “ Poor Miss Taylor!—I wish she were here again...\n",
       "1       “ I can not agree with you , papa ; you know I...\n",
       "2       “ A house of her own!—But where is the advanta...\n",
       "3       “ How often we shall be going to see them , an...\n",
       "4       “ My dear , how am I to get so far ? Randalls ...\n",
       "                              ...                        \n",
       "2087    ” said he to Emma , and trying , as he spoke ,...\n",
       "2088    ” Emma soon recollected , and understood him ;...\n",
       "2089                                       ” he cried . “\n",
       "2090    ” Jane was forced to smile completely , for a ...\n",
       "2091    ” He had a great deal to say in return , and v...\n",
       "Name: quote, Length: 2092, dtype: object"
      ]
     },
     "execution_count": 7,
     "metadata": {},
     "output_type": "execute_result"
    }
   ],
   "source": [
    "df_quotes = pd.read_csv(\"Data/emma.quotes\", delimiter=\"\\t\")\n",
    "df_quotes['quote']"
   ]
  },
  {
   "cell_type": "code",
   "execution_count": 9,
   "id": "30f0d4c1",
   "metadata": {},
   "outputs": [
    {
     "data": {
      "text/html": [
       "<div>\n",
       "<style scoped>\n",
       "    .dataframe tbody tr th:only-of-type {\n",
       "        vertical-align: middle;\n",
       "    }\n",
       "\n",
       "    .dataframe tbody tr th {\n",
       "        vertical-align: top;\n",
       "    }\n",
       "\n",
       "    .dataframe thead th {\n",
       "        text-align: right;\n",
       "    }\n",
       "</style>\n",
       "<table border=\"1\" class=\"dataframe\">\n",
       "  <thead>\n",
       "    <tr style=\"text-align: right;\">\n",
       "      <th></th>\n",
       "      <th>start_token</th>\n",
       "      <th>end_token</th>\n",
       "      <th>supersense_category</th>\n",
       "      <th>text</th>\n",
       "    </tr>\n",
       "  </thead>\n",
       "  <tbody>\n",
       "    <tr>\n",
       "      <th>0</th>\n",
       "      <td>0</td>\n",
       "      <td>0</td>\n",
       "      <td>noun.person</td>\n",
       "      <td>Emma</td>\n",
       "    </tr>\n",
       "    <tr>\n",
       "      <th>1</th>\n",
       "      <td>2</td>\n",
       "      <td>4</td>\n",
       "      <td>noun.person</td>\n",
       "      <td>Jane Austen Contents</td>\n",
       "    </tr>\n",
       "    <tr>\n",
       "      <th>2</th>\n",
       "      <td>5</td>\n",
       "      <td>7</td>\n",
       "      <td>noun.group</td>\n",
       "      <td>VOLUME I. CHAPTER</td>\n",
       "    </tr>\n",
       "    <tr>\n",
       "      <th>3</th>\n",
       "      <td>9</td>\n",
       "      <td>9</td>\n",
       "      <td>noun.communication</td>\n",
       "      <td>CHAPTER</td>\n",
       "    </tr>\n",
       "    <tr>\n",
       "      <th>4</th>\n",
       "      <td>32</td>\n",
       "      <td>32</td>\n",
       "      <td>noun.communication</td>\n",
       "      <td>CHAPTER</td>\n",
       "    </tr>\n",
       "    <tr>\n",
       "      <th>...</th>\n",
       "      <td>...</td>\n",
       "      <td>...</td>\n",
       "      <td>...</td>\n",
       "      <td>...</td>\n",
       "    </tr>\n",
       "    <tr>\n",
       "      <th>49711</th>\n",
       "      <td>189452</td>\n",
       "      <td>189452</td>\n",
       "      <td>verb.cognition</td>\n",
       "      <td>answered</td>\n",
       "    </tr>\n",
       "    <tr>\n",
       "      <th>49712</th>\n",
       "      <td>189456</td>\n",
       "      <td>189456</td>\n",
       "      <td>noun.state</td>\n",
       "      <td>happiness</td>\n",
       "    </tr>\n",
       "    <tr>\n",
       "      <th>49713</th>\n",
       "      <td>189459</td>\n",
       "      <td>189459</td>\n",
       "      <td>noun.group</td>\n",
       "      <td>union</td>\n",
       "    </tr>\n",
       "    <tr>\n",
       "      <th>49714</th>\n",
       "      <td>189461</td>\n",
       "      <td>189461</td>\n",
       "      <td>noun.person</td>\n",
       "      <td>FINIS</td>\n",
       "    </tr>\n",
       "    <tr>\n",
       "      <th>49715</th>\n",
       "      <td>189469</td>\n",
       "      <td>189471</td>\n",
       "      <td>noun.person</td>\n",
       "      <td>GUTENBERG EBOOK EMMA</td>\n",
       "    </tr>\n",
       "  </tbody>\n",
       "</table>\n",
       "<p>49716 rows × 4 columns</p>\n",
       "</div>"
      ],
      "text/plain": [
       "       start_token  end_token supersense_category                  text\n",
       "0                0          0         noun.person                  Emma\n",
       "1                2          4         noun.person  Jane Austen Contents\n",
       "2                5          7          noun.group     VOLUME I. CHAPTER\n",
       "3                9          9  noun.communication               CHAPTER\n",
       "4               32         32  noun.communication               CHAPTER\n",
       "...            ...        ...                 ...                   ...\n",
       "49711       189452     189452      verb.cognition              answered\n",
       "49712       189456     189456          noun.state             happiness\n",
       "49713       189459     189459          noun.group                 union\n",
       "49714       189461     189461         noun.person                 FINIS\n",
       "49715       189469     189471         noun.person  GUTENBERG EBOOK EMMA\n",
       "\n",
       "[49716 rows x 4 columns]"
      ]
     },
     "execution_count": 9,
     "metadata": {},
     "output_type": "execute_result"
    }
   ],
   "source": [
    "df_supersense = pd.read_csv(\"Data/emma.supersense\", delimiter=\"\\t\")\n",
    "df_supersense"
   ]
  },
  {
   "cell_type": "code",
   "execution_count": null,
   "id": "e86ff14b",
   "metadata": {},
   "outputs": [],
   "source": []
  },
  {
   "cell_type": "code",
   "execution_count": null,
   "id": "aa8252c4",
   "metadata": {},
   "outputs": [],
   "source": []
  }
 ],
 "metadata": {
  "kernelspec": {
   "display_name": "Python (py37animacy)",
   "language": "python",
   "name": "py37animacy"
  },
  "language_info": {
   "codemirror_mode": {
    "name": "ipython",
    "version": 3
   },
   "file_extension": ".py",
   "mimetype": "text/x-python",
   "name": "python",
   "nbconvert_exporter": "python",
   "pygments_lexer": "ipython3",
   "version": "3.7.12"
  }
 },
 "nbformat": 4,
 "nbformat_minor": 5
}
