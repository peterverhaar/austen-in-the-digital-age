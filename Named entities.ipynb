{
 "cells": [
  {
   "cell_type": "code",
   "execution_count": 4,
   "id": "b6e26d57",
   "metadata": {},
   "outputs": [],
   "source": [
    "import os\n",
    "import pandas as pd\n",
    "from os.path import join\n",
    "import json\n",
    "import pandas as pd\n",
    "import matplotlib.pyplot as plt\n",
    "import seaborn as sns\n",
    "\n",
    "from collections import Counter "
   ]
  },
  {
   "cell_type": "code",
   "execution_count": 5,
   "id": "334e90da",
   "metadata": {},
   "outputs": [],
   "source": [
    "texts = ['Emma', \n",
    "         'Northanger_Abbey',\n",
    "         'Persuasion',\n",
    "         'Mansfield_Park',\n",
    "         'Pride_and_Prejudice',\n",
    "         'Sense_and_Sensibility']"
   ]
  },
  {
   "cell_type": "code",
   "execution_count": 6,
   "id": "2b5657db",
   "metadata": {},
   "outputs": [
    {
     "name": "stdout",
     "output_type": "stream",
     "text": [
      "Emma\n",
      "Northanger_Abbey\n",
      "Persuasion\n",
      "Mansfield_Park\n",
      "Pride_and_Prejudice\n",
      "Sense_and_Sensibility\n"
     ]
    }
   ],
   "source": [
    "for text in texts:\n",
    "    print(text)\n",
    "    entities = pd.read_csv( join('Data',f'{text.lower()}.entities') , sep = '\\t')\n"
   ]
  },
  {
   "cell_type": "code",
   "execution_count": 11,
   "id": "36d3c460",
   "metadata": {},
   "outputs": [
    {
     "name": "stdout",
     "output_type": "stream",
     "text": [
      "The novel contains the following entity types:\n",
      "PER\n",
      "FAC\n",
      "LOC\n",
      "GPE\n",
      "VEH\n",
      "ORG\n"
     ]
    }
   ],
   "source": [
    "entities = pd.read_csv( join('Data',f'{texts[0].lower()}.entities') , sep = '\\t')\n",
    "print('The novel contains the following entity types:')\n",
    "for ne in entities['cat'].unique():\n",
    "    print(ne)"
   ]
  },
  {
   "cell_type": "code",
   "execution_count": 10,
   "id": "b31de539",
   "metadata": {},
   "outputs": [
    {
     "data": {
      "text/plain": [
       "array(['PER', 'FAC', 'LOC', 'GPE', 'VEH', 'ORG'], dtype=object)"
      ]
     },
     "execution_count": 10,
     "metadata": {},
     "output_type": "execute_result"
    }
   ],
   "source": [
    "entity_type = {\n",
    "\n",
    "    'PER':'People, including fictional',\n",
    "    'NORP: Nationalities or religious or political groups',\n",
    "    'FAC: Buildings, airports, highways, bridges, etc.',\n",
    "    'ORG: Companies, agencies, institutions, etc.',\n",
    "    'GPE: Countries, cities, states',\n",
    "    'LOC: Non-GPE locations, mountain ranges, bodies of water',\n",
    "    'PRODUCT: Objects, vehicles, foods, etc. (not services)',\n",
    "    'EVENT: Named hurricanes, battles, wars, sports events, etc.',\n",
    "    'WORK_OF_ART: Titles of books, songs, etc.',\n",
    "    'LAW: Named documents made into laws.',\n",
    "    'LANGUAGE: Any named language',\n",
    "    'DATE: Absolute or relative dates or periods',\n",
    "    'TIME: Times smaller than a day',\n",
    "    'PERCENT: Percentage, including “%”',\n",
    "    'MONEY: Monetary values, including unit',\n",
    "    'QUANTITY: Measurements, as of weight or distance',\n",
    "    'ORDINAL':'“first”, “second”, etc.',\n",
    "    'CARDINAL':'Numerals that do not fall under another type'\n",
    "}"
   ]
  },
  {
   "cell_type": "code",
   "execution_count": null,
   "id": "7768161b",
   "metadata": {},
   "outputs": [],
   "source": []
  }
 ],
 "metadata": {
  "kernelspec": {
   "display_name": "Python 3 (ipykernel)",
   "language": "python",
   "name": "python3"
  },
  "language_info": {
   "codemirror_mode": {
    "name": "ipython",
    "version": 3
   },
   "file_extension": ".py",
   "mimetype": "text/x-python",
   "name": "python",
   "nbconvert_exporter": "python",
   "pygments_lexer": "ipython3",
   "version": "3.7.9"
  }
 },
 "nbformat": 4,
 "nbformat_minor": 5
}
