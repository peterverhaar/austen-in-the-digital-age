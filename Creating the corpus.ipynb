{
 "cells": [
  {
   "cell_type": "code",
   "execution_count": null,
   "id": "d5ad61f8",
   "metadata": {},
   "outputs": [],
   "source": [
    "import re \n",
    "\n",
    "def remove_pg_boilerplate(complete_file):\n",
    "    \n",
    "    lines = re.split( r'\\n' , complete_file )\n",
    "    read_mode = 0 \n",
    "    full_text = ''\n",
    "    \n",
    "    for line in lines:\n",
    "        #print(line)\n",
    "        if read_mode == 1:\n",
    "            full_text += line + '\\n'\n",
    "            \n",
    "        if re.search( r'\\*{3,}\\s+START\\s+OF\\s+TH(E|IS)\\s+PROJECT\\s+GUTENBERG\\s+EBOOK' ,  str(line) , re.IGNORECASE ):\n",
    "            read_mode = 1\n",
    "        if re.search( r'\\*{3,}\\s+END\\s+OF\\s+TH(E|IS)\\s+PROJECT\\s+GUTENBERG\\s+EBOOK' ,  str(line) , re.IGNORECASE ):\n",
    "            read_mode = 0\n",
    "            \n",
    "    full_text = full_text.strip()\n",
    "    if re.search( r'^Produced by' , full_text , re.IGNORECASE ):\n",
    "        full_text = full_text[ full_text.index('\\n') : len(full_text) ]\n",
    "    return full_text"
   ]
  },
  {
   "cell_type": "code",
   "execution_count": null,
   "id": "3717091a",
   "metadata": {},
   "outputs": [],
   "source": [
    "gutenberg_files = {\n",
    "    'http://www.gutenberg.org/files/158/158-0.txt':'Emma',\n",
    "    'http://www.gutenberg.org/files/161/161-0.txt':'Sense and Sensibility',\n",
    "    'http://www.gutenberg.org/files/1342/1342-0.txt':'Pride and Prejudice',\n",
    "    'https://www.gutenberg.org/cache/epub/141/pg141.txt':'Mansfield Park',\n",
    "    'https://www.gutenberg.org/cache/epub/105/pg105.txt':'Persuasion',\n",
    "    'https://www.gutenberg.org/cache/epub/121/pg121.txt':'Northanger Abbey'\n",
    "}"
   ]
  },
  {
   "cell_type": "code",
   "execution_count": null,
   "id": "c5c1b14e",
   "metadata": {},
   "outputs": [],
   "source": [
    "import requests\n",
    "import re\n",
    "import os\n",
    "from os.path import join\n",
    "\n",
    "corpus = 'Corpus'\n",
    "\n",
    "if not(os.path.exists(corpus)):\n",
    "    os.makedirs(corpus)\n",
    "\n",
    "for url in gutenberg_files:\n",
    "    print(\"Downloading \" + gutenberg_files[url] + \" ...\")\n",
    "    response = requests.get(url)\n",
    "    title = re.sub( r'\\s+' , '_' ,  gutenberg_files[url] )\n",
    "\n",
    "    if response:\n",
    "        response.encoding = 'utf-8'\n",
    "        full_text = remove_pg_boilerplate(response.text)  \n",
    "        full_text = re.sub(r'\\s+' , ' ' , full_text)\n",
    "        path = join( corpus , f'{title}.txt' )\n",
    "        out = open( path , 'w' , encoding = 'utf-8')\n",
    "        out.write( full_text.strip() )\n",
    "        out.close()\n",
    "\n",
    "print('\\nDone!')    "
   ]
  },
  {
   "cell_type": "code",
   "execution_count": null,
   "id": "5e157b4b",
   "metadata": {},
   "outputs": [],
   "source": [
    "dir = 'Corpus'\n",
    "\n",
    "for file in os.listdir(dir):\n",
    "    if re.search( r'txt$' , file):\n",
    "        full_text = ''\n",
    "        with open(join(dir,file)) as text_file:\n",
    "            full_text = text_file.read()\n",
    "            \n",
    "        full_text = re.sub( r'[:;!?]+\\-', ' ', full_text)\n",
    "        full_text = re.sub( r'\\.\\-', ' ', full_text)\n",
    "\n",
    "        full_text = re.sub( r'\\-[:;!?]+', ' ' , full_text)\n",
    "        full_text = re.sub( r'\\-\\.', ' ', full_text)\n",
    "        \n",
    "        full_text = re.sub( r'_', '', full_text)\n",
    "        \n",
    "        out = open( join(dir,file) , 'w' , encoding = 'utf-8' )\n",
    "        out.write(full_text)\n",
    "        out.close()\n",
    "\n"
   ]
  }
 ],
 "metadata": {
  "kernelspec": {
   "display_name": "Python 3 (ipykernel)",
   "language": "python",
   "name": "python3"
  },
  "language_info": {
   "codemirror_mode": {
    "name": "ipython",
    "version": 3
   },
   "file_extension": ".py",
   "mimetype": "text/x-python",
   "name": "python",
   "nbconvert_exporter": "python",
   "pygments_lexer": "ipython3",
   "version": "3.7.9"
  }
 },
 "nbformat": 4,
 "nbformat_minor": 5
}
